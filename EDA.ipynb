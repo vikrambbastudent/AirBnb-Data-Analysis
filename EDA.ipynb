{
 "cells": [
  {
   "cell_type": "markdown",
   "id": "7dfad936-93f8-4787-942b-457838edf013",
   "metadata": {},
   "source": [
    "# Airbnb\n",
    "We ca start with Exploratory Data Analysis (EDA), which will give you\r\n",
    "some basic understanding like how to upload a CSV file, how to plot\r\n",
    "different graphs, how to drop Nun value and more. . ."
   ]
  },
  {
   "cell_type": "code",
   "execution_count": 3,
   "id": "f1a59ec6-564e-4073-a266-8fdb4db03fba",
   "metadata": {},
   "outputs": [],
   "source": [
    "#importing necessary Libraries:\n",
    "import pandas as pd # importing the dataframe and it is used for data cleaning and analysis.\n",
    "import numpy as np # used for working with arrays\n",
    "import seaborn as sns # used for plotting statistical graphics\n",
    "import matplotlib.pyplot as plt # used to create 2D graphs and plots\n",
    "import warnings # warnings module suppresses repeated warnings from the same source to cut down on the annoyance of #seeing the same message over and over\n",
    "warnings.filterwarnings('ignore')"
   ]
  },
  {
   "cell_type": "markdown",
   "id": "05e469a9-ba28-4a54-bae9-e206aefff7e1",
   "metadata": {},
   "source": [
    "# Read File"
   ]
  },
  {
   "cell_type": "code",
   "execution_count": 4,
   "id": "56c51d14-2cbe-490f-a1fd-8f532df22f8d",
   "metadata": {},
   "outputs": [],
   "source": [
    "# From where did I get the below path?\n",
    "# You can download the dataset in a folder, go to that folder and just above the csv files, you will find the path. Just \n",
    "# click there, the whole path will be highlighted, copy it and paste it inside the code. You can use doul be or single \n",
    "# inverted commas (either works). One important thing to note here is that, you need to make some modifications to the \n",
    "# path, you can add extra back slashes or you can replace them with forward slashes.\n",
    "\n",
    "#Either of the below code works.\n",
    "df = pd.read_csv('C:\\\\Users\\\\HP\\\\Airbnb\\\\sample_airbnb.listingsAndReviews.csv') # Here we have stored our dataset in a varible name df. 10 # It will be used to train our model\n",
    "# df = pd.read_csv('C:/Users/vent_/Desktop/Titanic/train.csv')\n",
    "# Also, you will have to add csv files at the end of the path manually (just write the name with .csv and it's done!)"
   ]
  },
  {
   "cell_type": "markdown",
   "id": "1e333892-66e1-4089-bfd6-a92868da14bd",
   "metadata": {},
   "source": [
    "# Dataset Overview"
   ]
  },
  {
   "cell_type": "code",
   "execution_count": 5,
   "id": "a78b5b33-5838-428c-b7f9-7f523893350e",
   "metadata": {},
   "outputs": [
    {
     "name": "stdout",
     "output_type": "stream",
     "text": [
      "<class 'pandas.core.frame.DataFrame'>\n",
      "RangeIndex: 5555 entries, 0 to 5554\n",
      "Columns: 3361 entries, _id to reviews_per_month\n",
      "dtypes: bool(4), float64(1622), int64(13), object(1722)\n",
      "memory usage: 142.3+ MB\n"
     ]
    }
   ],
   "source": [
    "df.info()"
   ]
  },
  {
   "cell_type": "code",
   "execution_count": 6,
   "id": "7b5fa2b6-df3a-40cd-8226-e6105a41c3bf",
   "metadata": {},
   "outputs": [
    {
     "data": {
      "text/html": [
       "<div>\n",
       "<style scoped>\n",
       "    .dataframe tbody tr th:only-of-type {\n",
       "        vertical-align: middle;\n",
       "    }\n",
       "\n",
       "    .dataframe tbody tr th {\n",
       "        vertical-align: top;\n",
       "    }\n",
       "\n",
       "    .dataframe thead th {\n",
       "        text-align: right;\n",
       "    }\n",
       "</style>\n",
       "<table border=\"1\" class=\"dataframe\">\n",
       "  <thead>\n",
       "    <tr style=\"text-align: right;\">\n",
       "      <th></th>\n",
       "      <th>_id</th>\n",
       "      <th>minimum_nights</th>\n",
       "      <th>maximum_nights</th>\n",
       "      <th>accommodates</th>\n",
       "      <th>bedrooms</th>\n",
       "      <th>beds</th>\n",
       "      <th>number_of_reviews</th>\n",
       "      <th>bathrooms</th>\n",
       "      <th>price</th>\n",
       "      <th>weekly_price</th>\n",
       "      <th>...</th>\n",
       "      <th>reviews[524].reviewer_id</th>\n",
       "      <th>reviews[525].reviewer_id</th>\n",
       "      <th>reviews[526].reviewer_id</th>\n",
       "      <th>reviews[527].reviewer_id</th>\n",
       "      <th>reviews[528].reviewer_id</th>\n",
       "      <th>reviews[529].reviewer_id</th>\n",
       "      <th>reviews[530].reviewer_id</th>\n",
       "      <th>reviews[531].reviewer_id</th>\n",
       "      <th>reviews[532].reviewer_id</th>\n",
       "      <th>reviews_per_month</th>\n",
       "    </tr>\n",
       "  </thead>\n",
       "  <tbody>\n",
       "    <tr>\n",
       "      <th>count</th>\n",
       "      <td>5.555000e+03</td>\n",
       "      <td>5555.000000</td>\n",
       "      <td>5.555000e+03</td>\n",
       "      <td>5555.000000</td>\n",
       "      <td>5550.000000</td>\n",
       "      <td>5542.000000</td>\n",
       "      <td>5555.000000</td>\n",
       "      <td>5545.000000</td>\n",
       "      <td>5555.000000</td>\n",
       "      <td>714.000000</td>\n",
       "      <td>...</td>\n",
       "      <td>1.0</td>\n",
       "      <td>1.0</td>\n",
       "      <td>1.0</td>\n",
       "      <td>1.0</td>\n",
       "      <td>1.0</td>\n",
       "      <td>1.0</td>\n",
       "      <td>1.0</td>\n",
       "      <td>1.0</td>\n",
       "      <td>1.0</td>\n",
       "      <td>94.000000</td>\n",
       "    </tr>\n",
       "    <tr>\n",
       "      <th>mean</th>\n",
       "      <td>1.664386e+07</td>\n",
       "      <td>5.564356</td>\n",
       "      <td>1.382776e+06</td>\n",
       "      <td>3.505851</td>\n",
       "      <td>1.411712</td>\n",
       "      <td>2.071454</td>\n",
       "      <td>27.606481</td>\n",
       "      <td>1.291163</td>\n",
       "      <td>278.766157</td>\n",
       "      <td>1530.903361</td>\n",
       "      <td>...</td>\n",
       "      <td>16457738.0</td>\n",
       "      <td>137568728.0</td>\n",
       "      <td>27496304.0</td>\n",
       "      <td>34351862.0</td>\n",
       "      <td>223695571.0</td>\n",
       "      <td>31351265.0</td>\n",
       "      <td>33503139.0</td>\n",
       "      <td>188362368.0</td>\n",
       "      <td>55764067.0</td>\n",
       "      <td>1.712766</td>\n",
       "    </tr>\n",
       "    <tr>\n",
       "      <th>std</th>\n",
       "      <td>9.622558e+06</td>\n",
       "      <td>22.613861</td>\n",
       "      <td>5.256920e+07</td>\n",
       "      <td>2.297019</td>\n",
       "      <td>1.041942</td>\n",
       "      <td>1.619660</td>\n",
       "      <td>49.798376</td>\n",
       "      <td>0.702265</td>\n",
       "      <td>842.215531</td>\n",
       "      <td>3185.916331</td>\n",
       "      <td>...</td>\n",
       "      <td>NaN</td>\n",
       "      <td>NaN</td>\n",
       "      <td>NaN</td>\n",
       "      <td>NaN</td>\n",
       "      <td>NaN</td>\n",
       "      <td>NaN</td>\n",
       "      <td>NaN</td>\n",
       "      <td>NaN</td>\n",
       "      <td>NaN</td>\n",
       "      <td>1.492795</td>\n",
       "    </tr>\n",
       "    <tr>\n",
       "      <th>min</th>\n",
       "      <td>1.170800e+04</td>\n",
       "      <td>1.000000</td>\n",
       "      <td>1.000000e+00</td>\n",
       "      <td>1.000000</td>\n",
       "      <td>0.000000</td>\n",
       "      <td>0.000000</td>\n",
       "      <td>0.000000</td>\n",
       "      <td>0.000000</td>\n",
       "      <td>9.000000</td>\n",
       "      <td>60.000000</td>\n",
       "      <td>...</td>\n",
       "      <td>16457738.0</td>\n",
       "      <td>137568728.0</td>\n",
       "      <td>27496304.0</td>\n",
       "      <td>34351862.0</td>\n",
       "      <td>223695571.0</td>\n",
       "      <td>31351265.0</td>\n",
       "      <td>33503139.0</td>\n",
       "      <td>188362368.0</td>\n",
       "      <td>55764067.0</td>\n",
       "      <td>1.000000</td>\n",
       "    </tr>\n",
       "    <tr>\n",
       "      <th>25%</th>\n",
       "      <td>8.376039e+06</td>\n",
       "      <td>1.000000</td>\n",
       "      <td>5.900000e+01</td>\n",
       "      <td>2.000000</td>\n",
       "      <td>1.000000</td>\n",
       "      <td>1.000000</td>\n",
       "      <td>1.000000</td>\n",
       "      <td>1.000000</td>\n",
       "      <td>70.000000</td>\n",
       "      <td>480.250000</td>\n",
       "      <td>...</td>\n",
       "      <td>16457738.0</td>\n",
       "      <td>137568728.0</td>\n",
       "      <td>27496304.0</td>\n",
       "      <td>34351862.0</td>\n",
       "      <td>223695571.0</td>\n",
       "      <td>31351265.0</td>\n",
       "      <td>33503139.0</td>\n",
       "      <td>188362368.0</td>\n",
       "      <td>55764067.0</td>\n",
       "      <td>1.000000</td>\n",
       "    </tr>\n",
       "    <tr>\n",
       "      <th>50%</th>\n",
       "      <td>1.711345e+07</td>\n",
       "      <td>2.000000</td>\n",
       "      <td>1.125000e+03</td>\n",
       "      <td>3.000000</td>\n",
       "      <td>1.000000</td>\n",
       "      <td>2.000000</td>\n",
       "      <td>5.000000</td>\n",
       "      <td>1.000000</td>\n",
       "      <td>129.000000</td>\n",
       "      <td>800.000000</td>\n",
       "      <td>...</td>\n",
       "      <td>16457738.0</td>\n",
       "      <td>137568728.0</td>\n",
       "      <td>27496304.0</td>\n",
       "      <td>34351862.0</td>\n",
       "      <td>223695571.0</td>\n",
       "      <td>31351265.0</td>\n",
       "      <td>33503139.0</td>\n",
       "      <td>188362368.0</td>\n",
       "      <td>55764067.0</td>\n",
       "      <td>1.000000</td>\n",
       "    </tr>\n",
       "    <tr>\n",
       "      <th>75%</th>\n",
       "      <td>2.461229e+07</td>\n",
       "      <td>3.000000</td>\n",
       "      <td>1.125000e+03</td>\n",
       "      <td>4.000000</td>\n",
       "      <td>2.000000</td>\n",
       "      <td>3.000000</td>\n",
       "      <td>32.000000</td>\n",
       "      <td>1.000000</td>\n",
       "      <td>280.000000</td>\n",
       "      <td>1575.250000</td>\n",
       "      <td>...</td>\n",
       "      <td>16457738.0</td>\n",
       "      <td>137568728.0</td>\n",
       "      <td>27496304.0</td>\n",
       "      <td>34351862.0</td>\n",
       "      <td>223695571.0</td>\n",
       "      <td>31351265.0</td>\n",
       "      <td>33503139.0</td>\n",
       "      <td>188362368.0</td>\n",
       "      <td>55764067.0</td>\n",
       "      <td>2.000000</td>\n",
       "    </tr>\n",
       "    <tr>\n",
       "      <th>max</th>\n",
       "      <td>3.295874e+07</td>\n",
       "      <td>1250.000000</td>\n",
       "      <td>2.147484e+09</td>\n",
       "      <td>16.000000</td>\n",
       "      <td>20.000000</td>\n",
       "      <td>25.000000</td>\n",
       "      <td>533.000000</td>\n",
       "      <td>16.000000</td>\n",
       "      <td>48842.000000</td>\n",
       "      <td>59123.000000</td>\n",
       "      <td>...</td>\n",
       "      <td>16457738.0</td>\n",
       "      <td>137568728.0</td>\n",
       "      <td>27496304.0</td>\n",
       "      <td>34351862.0</td>\n",
       "      <td>223695571.0</td>\n",
       "      <td>31351265.0</td>\n",
       "      <td>33503139.0</td>\n",
       "      <td>188362368.0</td>\n",
       "      <td>55764067.0</td>\n",
       "      <td>10.000000</td>\n",
       "    </tr>\n",
       "  </tbody>\n",
       "</table>\n",
       "<p>8 rows × 1635 columns</p>\n",
       "</div>"
      ],
      "text/plain": [
       "                _id  minimum_nights  maximum_nights  accommodates  \\\n",
       "count  5.555000e+03     5555.000000    5.555000e+03   5555.000000   \n",
       "mean   1.664386e+07        5.564356    1.382776e+06      3.505851   \n",
       "std    9.622558e+06       22.613861    5.256920e+07      2.297019   \n",
       "min    1.170800e+04        1.000000    1.000000e+00      1.000000   \n",
       "25%    8.376039e+06        1.000000    5.900000e+01      2.000000   \n",
       "50%    1.711345e+07        2.000000    1.125000e+03      3.000000   \n",
       "75%    2.461229e+07        3.000000    1.125000e+03      4.000000   \n",
       "max    3.295874e+07     1250.000000    2.147484e+09     16.000000   \n",
       "\n",
       "          bedrooms         beds  number_of_reviews    bathrooms         price  \\\n",
       "count  5550.000000  5542.000000        5555.000000  5545.000000   5555.000000   \n",
       "mean      1.411712     2.071454          27.606481     1.291163    278.766157   \n",
       "std       1.041942     1.619660          49.798376     0.702265    842.215531   \n",
       "min       0.000000     0.000000           0.000000     0.000000      9.000000   \n",
       "25%       1.000000     1.000000           1.000000     1.000000     70.000000   \n",
       "50%       1.000000     2.000000           5.000000     1.000000    129.000000   \n",
       "75%       2.000000     3.000000          32.000000     1.000000    280.000000   \n",
       "max      20.000000    25.000000         533.000000    16.000000  48842.000000   \n",
       "\n",
       "       weekly_price  ...  reviews[524].reviewer_id  reviews[525].reviewer_id  \\\n",
       "count    714.000000  ...                       1.0                       1.0   \n",
       "mean    1530.903361  ...                16457738.0               137568728.0   \n",
       "std     3185.916331  ...                       NaN                       NaN   \n",
       "min       60.000000  ...                16457738.0               137568728.0   \n",
       "25%      480.250000  ...                16457738.0               137568728.0   \n",
       "50%      800.000000  ...                16457738.0               137568728.0   \n",
       "75%     1575.250000  ...                16457738.0               137568728.0   \n",
       "max    59123.000000  ...                16457738.0               137568728.0   \n",
       "\n",
       "       reviews[526].reviewer_id  reviews[527].reviewer_id  \\\n",
       "count                       1.0                       1.0   \n",
       "mean                 27496304.0                34351862.0   \n",
       "std                         NaN                       NaN   \n",
       "min                  27496304.0                34351862.0   \n",
       "25%                  27496304.0                34351862.0   \n",
       "50%                  27496304.0                34351862.0   \n",
       "75%                  27496304.0                34351862.0   \n",
       "max                  27496304.0                34351862.0   \n",
       "\n",
       "       reviews[528].reviewer_id  reviews[529].reviewer_id  \\\n",
       "count                       1.0                       1.0   \n",
       "mean                223695571.0                31351265.0   \n",
       "std                         NaN                       NaN   \n",
       "min                 223695571.0                31351265.0   \n",
       "25%                 223695571.0                31351265.0   \n",
       "50%                 223695571.0                31351265.0   \n",
       "75%                 223695571.0                31351265.0   \n",
       "max                 223695571.0                31351265.0   \n",
       "\n",
       "       reviews[530].reviewer_id  reviews[531].reviewer_id  \\\n",
       "count                       1.0                       1.0   \n",
       "mean                 33503139.0               188362368.0   \n",
       "std                         NaN                       NaN   \n",
       "min                  33503139.0               188362368.0   \n",
       "25%                  33503139.0               188362368.0   \n",
       "50%                  33503139.0               188362368.0   \n",
       "75%                  33503139.0               188362368.0   \n",
       "max                  33503139.0               188362368.0   \n",
       "\n",
       "       reviews[532].reviewer_id  reviews_per_month  \n",
       "count                       1.0          94.000000  \n",
       "mean                 55764067.0           1.712766  \n",
       "std                         NaN           1.492795  \n",
       "min                  55764067.0           1.000000  \n",
       "25%                  55764067.0           1.000000  \n",
       "50%                  55764067.0           1.000000  \n",
       "75%                  55764067.0           2.000000  \n",
       "max                  55764067.0          10.000000  \n",
       "\n",
       "[8 rows x 1635 columns]"
      ]
     },
     "execution_count": 6,
     "metadata": {},
     "output_type": "execute_result"
    }
   ],
   "source": [
    "# We use describe() method to better understand the numeric data.\n",
    "# This gives us an understanding of the central tendencies of the data. This is what we call 5 point summary. A\n",
    "# summary consists of five values: the most extreme values in the data set (the maximum and minimum values), the Lower 4 # and upper quartiles, and the median.\n",
    "df.describe()"
   ]
  },
  {
   "cell_type": "code",
   "execution_count": 7,
   "id": "e2a43927-8059-40ac-b898-8a3f8eedfd9f",
   "metadata": {},
   "outputs": [
    {
     "name": "stdout",
     "output_type": "stream",
     "text": [
      "(5555, 3361)\n"
     ]
    }
   ],
   "source": [
    "print(df.shape) #rows = 5555, columns = 3361"
   ]
  },
  {
   "cell_type": "code",
   "execution_count": 8,
   "id": "b6aaba7f-dd8d-4cd3-b04d-5ee2c9f5f06d",
   "metadata": {},
   "outputs": [
    {
     "data": {
      "text/html": [
       "<div>\n",
       "<style scoped>\n",
       "    .dataframe tbody tr th:only-of-type {\n",
       "        vertical-align: middle;\n",
       "    }\n",
       "\n",
       "    .dataframe tbody tr th {\n",
       "        vertical-align: top;\n",
       "    }\n",
       "\n",
       "    .dataframe thead th {\n",
       "        text-align: right;\n",
       "    }\n",
       "</style>\n",
       "<table border=\"1\" class=\"dataframe\">\n",
       "  <thead>\n",
       "    <tr style=\"text-align: right;\">\n",
       "      <th></th>\n",
       "      <th>_id</th>\n",
       "      <th>listing_url</th>\n",
       "      <th>name</th>\n",
       "      <th>summary</th>\n",
       "      <th>space</th>\n",
       "      <th>description</th>\n",
       "      <th>neighborhood_overview</th>\n",
       "      <th>notes</th>\n",
       "      <th>transit</th>\n",
       "      <th>access</th>\n",
       "      <th>...</th>\n",
       "      <th>reviews[524].comments</th>\n",
       "      <th>reviews[525].comments</th>\n",
       "      <th>reviews[526].comments</th>\n",
       "      <th>reviews[527].comments</th>\n",
       "      <th>reviews[528].comments</th>\n",
       "      <th>reviews[529].comments</th>\n",
       "      <th>reviews[530].comments</th>\n",
       "      <th>reviews[531].comments</th>\n",
       "      <th>reviews[532].comments</th>\n",
       "      <th>reviews_per_month</th>\n",
       "    </tr>\n",
       "  </thead>\n",
       "  <tbody>\n",
       "    <tr>\n",
       "      <th>0</th>\n",
       "      <td>10009999</td>\n",
       "      <td>https://www.airbnb.com/rooms/10009999</td>\n",
       "      <td>Horto flat with small garden</td>\n",
       "      <td>One bedroom + sofa-bed in quiet and bucolic ne...</td>\n",
       "      <td>Lovely one bedroom + sofa-bed in the living ro...</td>\n",
       "      <td>One bedroom + sofa-bed in quiet and bucolic ne...</td>\n",
       "      <td>This charming ground floor flat is located in ...</td>\n",
       "      <td>There´s a table in the living room now, that d...</td>\n",
       "      <td>Easy access to transport (bus, taxi, car) and ...</td>\n",
       "      <td>NaN</td>\n",
       "      <td>...</td>\n",
       "      <td>NaN</td>\n",
       "      <td>NaN</td>\n",
       "      <td>NaN</td>\n",
       "      <td>NaN</td>\n",
       "      <td>NaN</td>\n",
       "      <td>NaN</td>\n",
       "      <td>NaN</td>\n",
       "      <td>NaN</td>\n",
       "      <td>NaN</td>\n",
       "      <td>NaN</td>\n",
       "    </tr>\n",
       "    <tr>\n",
       "      <th>1</th>\n",
       "      <td>10006546</td>\n",
       "      <td>https://www.airbnb.com/rooms/10006546</td>\n",
       "      <td>Ribeira Charming Duplex</td>\n",
       "      <td>Fantastic duplex apartment with three bedrooms...</td>\n",
       "      <td>Privileged views of the Douro River and Ribeir...</td>\n",
       "      <td>Fantastic duplex apartment with three bedrooms...</td>\n",
       "      <td>In the neighborhood of the river, you can find...</td>\n",
       "      <td>Lose yourself in the narrow streets and stairc...</td>\n",
       "      <td>Transport: • Metro station and S. Bento railwa...</td>\n",
       "      <td>We are always available to help guests. The ho...</td>\n",
       "      <td>...</td>\n",
       "      <td>NaN</td>\n",
       "      <td>NaN</td>\n",
       "      <td>NaN</td>\n",
       "      <td>NaN</td>\n",
       "      <td>NaN</td>\n",
       "      <td>NaN</td>\n",
       "      <td>NaN</td>\n",
       "      <td>NaN</td>\n",
       "      <td>NaN</td>\n",
       "      <td>NaN</td>\n",
       "    </tr>\n",
       "    <tr>\n",
       "      <th>2</th>\n",
       "      <td>10057826</td>\n",
       "      <td>https://www.airbnb.com/rooms/10057826</td>\n",
       "      <td>Deluxe Loft Suite</td>\n",
       "      <td>Loft Suite Deluxe @ Henry Norman Hotel Located...</td>\n",
       "      <td>This loft unit features a kitchenette and is f...</td>\n",
       "      <td>Loft Suite Deluxe @ Henry Norman Hotel Located...</td>\n",
       "      <td>Greenpoint is an artsy Brooklyn neighborhood f...</td>\n",
       "      <td>NaN</td>\n",
       "      <td>NaN</td>\n",
       "      <td>Guest will have access to common terraces, lou...</td>\n",
       "      <td>...</td>\n",
       "      <td>NaN</td>\n",
       "      <td>NaN</td>\n",
       "      <td>NaN</td>\n",
       "      <td>NaN</td>\n",
       "      <td>NaN</td>\n",
       "      <td>NaN</td>\n",
       "      <td>NaN</td>\n",
       "      <td>NaN</td>\n",
       "      <td>NaN</td>\n",
       "      <td>NaN</td>\n",
       "    </tr>\n",
       "    <tr>\n",
       "      <th>3</th>\n",
       "      <td>10038496</td>\n",
       "      <td>https://www.airbnb.com/rooms/10038496</td>\n",
       "      <td>Copacabana Apartment Posto 6</td>\n",
       "      <td>The Apartment has a living room, toilet, bedro...</td>\n",
       "      <td>The apartment has a living room, wash room, su...</td>\n",
       "      <td>The Apartment has a living room, toilet, bedro...</td>\n",
       "      <td>Copacabana in the South zone is the district t...</td>\n",
       "      <td>NaN</td>\n",
       "      <td>On the street there is plenty of transport and...</td>\n",
       "      <td>todo o espaço.</td>\n",
       "      <td>...</td>\n",
       "      <td>NaN</td>\n",
       "      <td>NaN</td>\n",
       "      <td>NaN</td>\n",
       "      <td>NaN</td>\n",
       "      <td>NaN</td>\n",
       "      <td>NaN</td>\n",
       "      <td>NaN</td>\n",
       "      <td>NaN</td>\n",
       "      <td>NaN</td>\n",
       "      <td>NaN</td>\n",
       "    </tr>\n",
       "    <tr>\n",
       "      <th>4</th>\n",
       "      <td>10082307</td>\n",
       "      <td>https://www.airbnb.com/rooms/10082307</td>\n",
       "      <td>Double Room en-suite (307)</td>\n",
       "      <td>A standard double room with a queen size doubl...</td>\n",
       "      <td>NaN</td>\n",
       "      <td>A standard double room with a queen size doubl...</td>\n",
       "      <td>NaN</td>\n",
       "      <td>NaN</td>\n",
       "      <td>NaN</td>\n",
       "      <td>NaN</td>\n",
       "      <td>...</td>\n",
       "      <td>NaN</td>\n",
       "      <td>NaN</td>\n",
       "      <td>NaN</td>\n",
       "      <td>NaN</td>\n",
       "      <td>NaN</td>\n",
       "      <td>NaN</td>\n",
       "      <td>NaN</td>\n",
       "      <td>NaN</td>\n",
       "      <td>NaN</td>\n",
       "      <td>NaN</td>\n",
       "    </tr>\n",
       "  </tbody>\n",
       "</table>\n",
       "<p>5 rows × 3361 columns</p>\n",
       "</div>"
      ],
      "text/plain": [
       "        _id                            listing_url  \\\n",
       "0  10009999  https://www.airbnb.com/rooms/10009999   \n",
       "1  10006546  https://www.airbnb.com/rooms/10006546   \n",
       "2  10057826  https://www.airbnb.com/rooms/10057826   \n",
       "3  10038496  https://www.airbnb.com/rooms/10038496   \n",
       "4  10082307  https://www.airbnb.com/rooms/10082307   \n",
       "\n",
       "                           name  \\\n",
       "0  Horto flat with small garden   \n",
       "1       Ribeira Charming Duplex   \n",
       "2             Deluxe Loft Suite   \n",
       "3  Copacabana Apartment Posto 6   \n",
       "4    Double Room en-suite (307)   \n",
       "\n",
       "                                             summary  \\\n",
       "0  One bedroom + sofa-bed in quiet and bucolic ne...   \n",
       "1  Fantastic duplex apartment with three bedrooms...   \n",
       "2  Loft Suite Deluxe @ Henry Norman Hotel Located...   \n",
       "3  The Apartment has a living room, toilet, bedro...   \n",
       "4  A standard double room with a queen size doubl...   \n",
       "\n",
       "                                               space  \\\n",
       "0  Lovely one bedroom + sofa-bed in the living ro...   \n",
       "1  Privileged views of the Douro River and Ribeir...   \n",
       "2  This loft unit features a kitchenette and is f...   \n",
       "3  The apartment has a living room, wash room, su...   \n",
       "4                                                NaN   \n",
       "\n",
       "                                         description  \\\n",
       "0  One bedroom + sofa-bed in quiet and bucolic ne...   \n",
       "1  Fantastic duplex apartment with three bedrooms...   \n",
       "2  Loft Suite Deluxe @ Henry Norman Hotel Located...   \n",
       "3  The Apartment has a living room, toilet, bedro...   \n",
       "4  A standard double room with a queen size doubl...   \n",
       "\n",
       "                               neighborhood_overview  \\\n",
       "0  This charming ground floor flat is located in ...   \n",
       "1  In the neighborhood of the river, you can find...   \n",
       "2  Greenpoint is an artsy Brooklyn neighborhood f...   \n",
       "3  Copacabana in the South zone is the district t...   \n",
       "4                                                NaN   \n",
       "\n",
       "                                               notes  \\\n",
       "0  There´s a table in the living room now, that d...   \n",
       "1  Lose yourself in the narrow streets and stairc...   \n",
       "2                                                NaN   \n",
       "3                                                NaN   \n",
       "4                                                NaN   \n",
       "\n",
       "                                             transit  \\\n",
       "0  Easy access to transport (bus, taxi, car) and ...   \n",
       "1  Transport: • Metro station and S. Bento railwa...   \n",
       "2                                                NaN   \n",
       "3  On the street there is plenty of transport and...   \n",
       "4                                                NaN   \n",
       "\n",
       "                                              access  ...  \\\n",
       "0                                                NaN  ...   \n",
       "1  We are always available to help guests. The ho...  ...   \n",
       "2  Guest will have access to common terraces, lou...  ...   \n",
       "3                                     todo o espaço.  ...   \n",
       "4                                                NaN  ...   \n",
       "\n",
       "  reviews[524].comments reviews[525].comments reviews[526].comments  \\\n",
       "0                   NaN                   NaN                   NaN   \n",
       "1                   NaN                   NaN                   NaN   \n",
       "2                   NaN                   NaN                   NaN   \n",
       "3                   NaN                   NaN                   NaN   \n",
       "4                   NaN                   NaN                   NaN   \n",
       "\n",
       "  reviews[527].comments reviews[528].comments  reviews[529].comments  \\\n",
       "0                   NaN                   NaN                    NaN   \n",
       "1                   NaN                   NaN                    NaN   \n",
       "2                   NaN                   NaN                    NaN   \n",
       "3                   NaN                   NaN                    NaN   \n",
       "4                   NaN                   NaN                    NaN   \n",
       "\n",
       "   reviews[530].comments reviews[531].comments reviews[532].comments  \\\n",
       "0                    NaN                   NaN                   NaN   \n",
       "1                    NaN                   NaN                   NaN   \n",
       "2                    NaN                   NaN                   NaN   \n",
       "3                    NaN                   NaN                   NaN   \n",
       "4                    NaN                   NaN                   NaN   \n",
       "\n",
       "  reviews_per_month  \n",
       "0               NaN  \n",
       "1               NaN  \n",
       "2               NaN  \n",
       "3               NaN  \n",
       "4               NaN  \n",
       "\n",
       "[5 rows x 3361 columns]"
      ]
     },
     "execution_count": 8,
     "metadata": {},
     "output_type": "execute_result"
    }
   ],
   "source": [
    "df.head()"
   ]
  },
  {
   "cell_type": "code",
   "execution_count": 9,
   "id": "99559fb1-c1f1-4327-9e6b-c395a44132e2",
   "metadata": {},
   "outputs": [
    {
     "data": {
      "text/plain": [
       "array(['_id', 'listing_url', 'name', ..., 'reviews[531].comments',\n",
       "       'reviews[532].comments', 'reviews_per_month'], dtype=object)"
      ]
     },
     "execution_count": 9,
     "metadata": {},
     "output_type": "execute_result"
    }
   ],
   "source": [
    "df.columns.values"
   ]
  },
  {
   "cell_type": "code",
   "execution_count": 10,
   "id": "4e4acf49-ff6f-4397-9626-8814d9423b69",
   "metadata": {},
   "outputs": [
    {
     "data": {
      "text/plain": [
       "_id                         0\n",
       "listing_url                 0\n",
       "name                        8\n",
       "summary                   258\n",
       "space                    1626\n",
       "                         ... \n",
       "reviews[529].comments    5554\n",
       "reviews[530].comments    5554\n",
       "reviews[531].comments    5554\n",
       "reviews[532].comments    5554\n",
       "reviews_per_month        5461\n",
       "Length: 3361, dtype: int64"
      ]
     },
     "execution_count": 10,
     "metadata": {},
     "output_type": "execute_result"
    }
   ],
   "source": [
    "df.isnull().sum() #this gives the number of missing values\n",
    "# Few conclusions\n",
    "#1. We can see that there are missing values in summary, space and reviews columns.\n",
    "# 2. There are more than 70 percent values that are missing in cabin column, we will have to drop it."
   ]
  },
  {
   "cell_type": "code",
   "execution_count": 11,
   "id": "fa075058-3812-481b-b210-d0c9548d8949",
   "metadata": {},
   "outputs": [],
   "source": [
    "import pandas as pd\n",
    "\n",
    "# Load your CSV file into a DataFrame\n",
    "df = pd.read_csv('C:\\\\Users\\\\HP\\\\Airbnb\\\\sample_airbnb.listingsAndReviews.csv')\n",
    "\n",
    "# Define column ranges to drop\n",
    "columns_to_drop = [\n",
    "    [f\"reviews[{i}]._id\" for i in range(1, 533)],\n",
    "    [f\"reviews[{i}].date\" for i in range(3, 533)],\n",
    "    [f\"reviews[{i}].comments\" for i in range(81, 533)],\n",
    "    [f\"amenities[{i}]\" for i in range(17, 76)],\n",
    "    [f\"host.host_verifications[{i}]\" for i in range(5, 12)],\n",
    "    [f\"reviews[{i}].listing_id\" for i in range(1, 533)],\n",
    "    [f\"reviews[{i}].reviewer_id\" for i in range(2, 533)],\n",
    "    [f\"reviews[{i}].reviewer_name\" for i in range(1, 533)]\n",
    "]\n",
    "\n",
    "# Flatten the list of columns to drop\n",
    "columns_to_drop = [col for sublist in columns_to_drop for col in sublist]\n",
    "\n",
    "# Check if the column exists before dropping\n",
    "columns_to_drop = [col for col in columns_to_drop if col in df.columns]\n",
    "\n",
    "# Drop the columns\n",
    "df.drop(columns=columns_to_drop, inplace=True, axis=1)\n",
    "\n",
    "# Save the updated DataFrame back to a CSV file\n",
    "# df.to_csv('updated_airbnb.csv', index=False)\n",
    "\n"
   ]
  },
  {
   "cell_type": "code",
   "execution_count": 12,
   "id": "457126a2-4ea5-422f-9692-118100f1ceab",
   "metadata": {},
   "outputs": [],
   "source": [
    "df.drop(columns=['images.thumbnail_url'],inplace=True)"
   ]
  },
  {
   "cell_type": "code",
   "execution_count": 13,
   "id": "a0f3309c-7dab-4af3-8ad2-9a4c95e592d5",
   "metadata": {},
   "outputs": [],
   "source": [
    "df.drop(columns=['images.medium_url'],inplace=True)"
   ]
  },
  {
   "cell_type": "code",
   "execution_count": 14,
   "id": "3213a2ab-d0a7-4f24-bd25-aed805b8a201",
   "metadata": {},
   "outputs": [],
   "source": [
    "df.drop(columns=['reviews_per_month'],inplace=True)"
   ]
  },
  {
   "cell_type": "code",
   "execution_count": 15,
   "id": "44a56215-77c7-4044-8e5a-a4ae62196b39",
   "metadata": {},
   "outputs": [
    {
     "name": "stdout",
     "output_type": "stream",
     "text": [
      "_id                      int64\n",
      "listing_url             object\n",
      "name                    object\n",
      "summary                 object\n",
      "space                   object\n",
      "                         ...  \n",
      "reviews[76].comments    object\n",
      "reviews[77].comments    object\n",
      "reviews[78].comments    object\n",
      "reviews[79].comments    object\n",
      "reviews[80].comments    object\n",
      "Length: 183, dtype: object\n"
     ]
    }
   ],
   "source": [
    "print(df.dtypes)"
   ]
  },
  {
   "cell_type": "code",
   "execution_count": 16,
   "id": "5f1a08c7-f950-4dcc-977b-746503f46b9d",
   "metadata": {},
   "outputs": [],
   "source": [
    "df[\"minimum_nights\"]= df[\"minimum_nights\"].astype(int)\n",
    "df[\"maximum_nights\"]= df[\"maximum_nights\"].astype(int)\n",
    "df[\"price\"]= df[\"price\"].astype(str).astype(float).astype(int)\n",
    "df[\"extra_people\"]= df[\"extra_people\"].astype(str).astype(float).astype(int)\n",
    "df[\"guests_included\"]= df[\"guests_included\"].astype(str).astype(float).astype(int)\n",
    "df['number_of_reviews'] = df['number_of_reviews'].astype(int)\n"
   ]
  },
  {
   "cell_type": "code",
   "execution_count": 17,
   "id": "ac97a616-55cf-4cc8-9206-16079a96310d",
   "metadata": {},
   "outputs": [],
   "source": [
    "import pandas as pd\n",
    "\n",
    "# List of columns to convert to float\n",
    "columns_to_convert = [\n",
    "   \n",
    "    \"host.host_response_rate\",\"address.country_code\"\n",
    "]\n",
    "\n",
    "# Convert columns to numeric, coercing non-numeric to NaN\n",
    "for column in columns_to_convert:\n",
    "    df[column] = pd.to_numeric(df[column], errors='coerce')\n",
    "\n",
    "# Fill NaN values with 0 and convert to float\n",
    "for column in columns_to_convert:\n",
    "    df[column] = df[column].fillna(0).astype(float)\n"
   ]
  },
  {
   "cell_type": "code",
   "execution_count": 18,
   "id": "60d51d43-35a3-4e9e-a25d-371b9adce4a3",
   "metadata": {},
   "outputs": [],
   "source": [
    "# Imputing missing values for \"age\"\n",
    "# Imputation is a technique used for replacing the missing data with some substitute value.\n",
    "# constant value, or using the statistics (mean, median or mode)\n",
    "# The strategy that we are using here is - mean\n",
    "\n",
    "# Define columns to fill with mean\n",
    "columns_to_fill = [\n",
    "    \"weekly_price\",\n",
    "    \"monthly_price\",\n",
    "    \"security_deposit\"\n",
    "]\n",
    "\n",
    "# Fill specified columns with mean values\n",
    "for col in columns_to_fill:\n",
    "    df[col].fillna(df[col].mean(), inplace=True)\n",
    "\n",
    "# Save the updated DataFrame back to a CSV file\n",
    "#df.to_csv('updated_file.csv', index=False)\n"
   ]
  },
  {
   "cell_type": "code",
   "execution_count": 19,
   "id": "260c8d38-d2eb-412d-8bf8-523e1c702414",
   "metadata": {},
   "outputs": [],
   "source": [
    "df['host.host_response_time'].value_counts()\n",
    "df['host.host_response_time'].fillna('within an hour', inplace=True)"
   ]
  },
  {
   "cell_type": "code",
   "execution_count": 20,
   "id": "d7ef2ae5-13dc-4ff8-b51d-cfa056aeda5d",
   "metadata": {},
   "outputs": [],
   "source": [
    "columns_to_fill = [\n",
    "    'host.host_response_rate',\n",
    "    'review_scores.review_scores_accuracy',\n",
    "    'review_scores.review_scores_cleanliness',\n",
    "    'review_scores.review_scores_checkin',\n",
    "    'review_scores.review_scores_communication',\n",
    "    'review_scores.review_scores_location',\n",
    "    'review_scores.review_scores_value',\n",
    "    'review_scores.review_scores_rating'\n",
    "]\n",
    "\n",
    "for column in columns_to_fill:\n",
    "    mean_value = df[column].mean()\n",
    "    df[column].fillna(mean_value, inplace=True)\n"
   ]
  },
  {
   "cell_type": "code",
   "execution_count": 21,
   "id": "d0a45be5-b4ce-43b4-9c5d-528a8700e3cc",
   "metadata": {},
   "outputs": [],
   "source": [
    "# Convert date columns to datetime\n",
    "df['first_review'] = pd.to_datetime(df['first_review'])\n",
    "df['last_review'] = pd.to_datetime(df['last_review'])\n",
    "\n",
    "# Calculate mean date for each column\n",
    "first_review_mean = df['first_review'].mean()\n",
    "last_review_mean = df['last_review'].mean()\n",
    "\n",
    "# Fill null values with mean date\n",
    "df['first_review'].fillna(first_review_mean, inplace=True)\n",
    "df['last_review'].fillna(last_review_mean, inplace=True)\n"
   ]
  },
  {
   "cell_type": "markdown",
   "id": "d4a238ea-68b3-4042-9d0b-cdfbf053171a",
   "metadata": {},
   "source": [
    "•\tAgain running the info function to see the desired changes. Here we can notice that:\r\n",
    "•\tNow there are no missing values.\r\n",
    "•\tWe have changed the datatype of the columns that had inappropriate data types.\r\n",
    "•\tOur memory usage has also reduced\r\n"
   ]
  },
  {
   "cell_type": "code",
   "execution_count": 22,
   "id": "cba5da7b-5a3d-4d00-a486-609f72db52bd",
   "metadata": {},
   "outputs": [
    {
     "name": "stdout",
     "output_type": "stream",
     "text": [
      "<class 'pandas.core.frame.DataFrame'>\n",
      "RangeIndex: 5555 entries, 0 to 5554\n",
      "Columns: 183 entries, _id to reviews[80].comments\n",
      "dtypes: bool(4), datetime64[ns, UTC](2), float64(23), int32(6), int64(9), object(139)\n",
      "memory usage: 7.5+ MB\n"
     ]
    }
   ],
   "source": [
    "df.info()"
   ]
  },
  {
   "cell_type": "markdown",
   "id": "ab1587db-1c77-42b6-9c05-a0179a462cea",
   "metadata": {},
   "source": [
    "•\tUnivariate Analysis:\r\n",
    "It refers to the analysis of one variable. Its purpose is to understand the distribution of values for a single variable.\r\n",
    "Let’s start with the overall survival ratio\r\n"
   ]
  },
  {
   "cell_type": "code",
   "execution_count": 23,
   "id": "21fc6ba8-ad19-4322-8c6f-797c251d97de",
   "metadata": {},
   "outputs": [
    {
     "data": {
      "text/plain": [
       "<Axes: ylabel='count'>"
      ]
     },
     "execution_count": 23,
     "metadata": {},
     "output_type": "execute_result"
    },
    {
     "data": {
      "image/png": "[encoded data removed]",
      "text/plain": [
       "<Figure size 600x600 with 1 Axes>"
      ]
     },
     "metadata": {},
     "output_type": "display_data"
    }
   ],
   "source": [
    "fig = plt.figure(figsize=(6,6))\n",
    "df['bathrooms'].value_counts().plot.pie(autopct='%1.2f%%')"
   ]
  },
  {
   "cell_type": "code",
   "execution_count": 24,
   "id": "3429e99f-09c5-4241-ab09-06b8e457848e",
   "metadata": {},
   "outputs": [
    {
     "name": "stdout",
     "output_type": "stream",
     "text": [
      "room_type\n",
      "Entire home/apt    62.808281\n",
      "Private room       35.697570\n",
      "Shared room         1.494149\n",
      "Name: count, dtype: float64\n"
     ]
    },
    {
     "data": {
      "text/plain": [
       "<function matplotlib.pyplot.show(close=None, block=None)>"
      ]
     },
     "execution_count": 24,
     "metadata": {},
     "output_type": "execute_result"
    },
    {
     "data": {
      "image/png": "[encoded data removed]",
      "text/plain": [
       "<Figure size 640x480 with 1 Axes>"
      ]
     },
     "metadata": {},
     "output_type": "display_data"
    }
   ],
   "source": [
    "#room_type column\n",
    "print((df['room_type'].value_counts()/5555)*100)\n",
    "sns.countplot(x = \"room_type\", data = df)\n",
    "plt.show"
   ]
  },
  {
   "cell_type": "markdown",
   "id": "0568e008-9214-464e-afaa-894737e6318f",
   "metadata": {},
   "source": [
    "# here we have plotted a displot (distribution plot) for the Number of review e” columits tail is more pronounced on the right side than on the left. Hence it is postively skewed.\r\n"
   ]
  },
  {
   "cell_type": "code",
   "execution_count": 25,
   "id": "93c857c8-1e17-4d24-a571-2d2673afedcd",
   "metadata": {},
   "outputs": [
    {
     "name": "stdout",
     "output_type": "stream",
     "text": [
      "3.197922798077692\n"
     ]
    },
    {
     "data": {
      "image/png": "[encoded data removed]",
      "text/plain": [
       "<Figure size 640x480 with 1 Axes>"
      ]
     },
     "metadata": {},
     "output_type": "display_data"
    }
   ],
   "source": [
    "# number_of_reviews\n",
    "sns.set_style('whitegrid')\n",
    "sns.distplot(df['number_of_reviews'], kde = True, bins = 30)\n",
    "print(df['number_of_reviews'].skew())"
   ]
  },
  {
   "cell_type": "markdown",
   "id": "816f3369-70c2-485d-8446-5b3ff94100ef",
   "metadata": {},
   "source": [
    "# Box Plot\r\n",
    "It is also known as Whisker plot and it is created to display the summary of the set of data values having properties like minimum, first quartile, median, third quartile and maximum.\r\n",
    "\r\n",
    "Here it shows that our interquartile range is betwe0-25–4ers.\r\n"
   ]
  },
  {
   "cell_type": "code",
   "execution_count": 26,
   "id": "b8554789-7372-472c-aa34-1e108f72362b",
   "metadata": {},
   "outputs": [
    {
     "data": {
      "text/plain": [
       "<Axes: xlabel='availability.availability_30'>"
      ]
     },
     "execution_count": 26,
     "metadata": {},
     "output_type": "execute_result"
    },
    {
     "data": {
      "image/png": "[encoded data removed]",
      "text/plain": [
       "<Figure size 640x480 with 1 Axes>"
      ]
     },
     "metadata": {},
     "output_type": "display_data"
    }
   ],
   "source": [
    "sns.boxplot(x = df[\"availability.availability_30\"])"
   ]
  },
  {
   "cell_type": "markdown",
   "id": "498a0b3c-b444-429b-ab37-a88d509a8f68",
   "metadata": {},
   "source": [
    "# Multi-variate analysis"
   ]
  },
  {
   "cell_type": "markdown",
   "id": "a86f1893-a7ef-419a-8aed-638cecab8a52",
   "metadata": {},
   "source": [
    "•\tBy looking at the distplot we can say that \tthe people who were paying upto 1000 had a higher probability of satisfaction\r\n",
    "•\tand where the value  pricere is more, the probability f osatisfactionng is constanty lloweg.\r\n"
   ]
  },
  {
   "cell_type": "code",
   "execution_count": 27,
   "id": "7d1f281a-a0cf-4208-9816-7982a089a4ef",
   "metadata": {},
   "outputs": [
    {
     "data": {
      "image/png": "[encoded data removed]",
      "text/plain": [
       "<Figure size 1500x600 with 1 Axes>"
      ]
     },
     "metadata": {},
     "output_type": "display_data"
    }
   ],
   "source": [
    "# Filter data and plot\n",
    "plt.figure(figsize=(15, 6))\n",
    "sns.distplot(df[df['number_of_reviews'] == 0]['price'], color='blue', label='Number of Reviews = 0')\n",
    "sns.distplot(df[df['number_of_reviews'] == 1]['price'], color='orange', label='Number of Reviews = 1')\n",
    "plt.title('Distribution of Price by Number of Reviews')\n",
    "plt.xlabel('Price')\n",
    "plt.ylabel('Density')\n",
    "plt.legend()\n",
    "plt.show()\n"
   ]
  },
  {
   "cell_type": "code",
   "execution_count": 28,
   "id": "860ccab2-02b3-4fbd-af75-2ae8a82cebdd",
   "metadata": {},
   "outputs": [],
   "source": [
    "#df.to_csv('updated_airbnb.csv', index=False)"
   ]
  },
  {
   "cell_type": "code",
   "execution_count": null,
   "id": "b2f3bad3-038e-43f4-b36a-ba399b287c2b",
   "metadata": {},
   "outputs": [],
   "source": []
  }
 ],
 "metadata": {
  "kernelspec": {
   "display_name": "Python 3 (ipykernel)",
   "language": "python",
   "name": "python3"
  },
  "language_info": {
   "codemirror_mode": {
    "name": "ipython",
    "version": 3
   },
   "file_extension": ".py",
   "mimetype": "text/x-python",
   "name": "python",
   "nbconvert_exporter": "python",
   "pygments_lexer": "ipython3",
   "version": "3.11.7"
  }
 },
 "nbformat": 4,
 "nbformat_minor": 5
}
